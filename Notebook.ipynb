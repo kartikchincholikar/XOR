{
 "cells": [
  {
   "cell_type": "markdown",
   "metadata": {},
   "source": [
    "<h1 style=\"color: #5e9ca0;\"><span style=\"color: #000000;\">Learning the XOR function and Visualizing the Hidden Layer output.</span></h1>\n",
    "<p><span style=\"color: #000000;\">We would be using a basic feedforward network with one hidden layer to learn the&nbsp; XOR function using numpy.</span></p>"
   ]
  },
  {
   "cell_type": "markdown",
   "metadata": {},
   "source": [
    "<p>The XOR truth table is given as follows:</p>\n",
    "<table style=\"height: 190px; width: 110px;\">\n",
    "<tbody>\n",
    "<tr>\n",
    "<td style=\"width: 29px;\">0</td>\n",
    "<td style=\"width: 29px;\">0</td>\n",
    "<td style=\"width: 36px;\"><span style=\"color: #ffcc00;\"><strong>1</strong></span></td>\n",
    "</tr>\n",
    "<tr>\n",
    "<td style=\"width: 29px;\">1</td>\n",
    "<td style=\"width: 29px;\">0</td>\n",
    "<td style=\"width: 36px;\"><span style=\"color: #003366;\"><strong>0</strong></span></td>\n",
    "</tr>\n",
    "<tr>\n",
    "<td style=\"width: 29px;\">1</td>\n",
    "<td style=\"width: 29px;\">1&nbsp;</td>\n",
    "<td style=\"width: 36px;\"><span style=\"color: #ffcc00;\"><strong>1</strong></span></td>\n",
    "</tr>\n",
    "<tr>\n",
    "<td style=\"width: 29px;\">0</td>\n",
    "<td style=\"width: 29px;\">1</td>\n",
    "<td style=\"width: 36px;\"><span style=\"color: #003366;\"><strong>0</strong></span></td>\n",
    "</tr>\n",
    "</tbody>\n",
    "</table>"
   ]
  },
  {
   "cell_type": "code",
   "execution_count": 2,
   "metadata": {
    "collapsed": true
   },
   "outputs": [],
   "source": [
    "#Importing Libraries\n",
    "import numpy as np\n",
    "import matplotlib.pyplot as plt\n",
    "%matplotlib inline"
   ]
  },
  {
   "cell_type": "code",
   "execution_count": 3,
   "metadata": {},
   "outputs": [
    {
     "name": "stdout",
     "output_type": "stream",
     "text": [
      "[[0 0 1]\n",
      " [1 0 0]\n",
      " [1 1 1]\n",
      " [0 1 0]]\n"
     ]
    }
   ],
   "source": [
    "# Create the training data for XOR.\n",
    "\n",
    "data = np.array([[0,0,1],[1,0,0],[1,1,1],[0,1,0]])\n",
    "print(data)\n",
    "\n",
    "#First two columns are the inputs,3rd Column consists of the labels"
   ]
  },
  {
   "cell_type": "code",
   "execution_count": 4,
   "metadata": {
    "collapsed": true
   },
   "outputs": [],
   "source": [
    "#Create the X_train(Co-oridinates) and Y_train(Labels) Matrices.\n",
    "\n",
    "Y_train = data[:,2].reshape(data.shape[0],1)\n",
    "X_train = data[:,:2]"
   ]
  },
  {
   "cell_type": "code",
   "execution_count": 5,
   "metadata": {},
   "outputs": [
    {
     "data": {
      "text/plain": [
       "<matplotlib.collections.PathCollection at 0x852d780>"
      ]
     },
     "execution_count": 5,
     "metadata": {},
     "output_type": "execute_result"
    },
    {
     "data": {
      "image/png": "[encoded data removed]",
      "text/plain": [
       "<matplotlib.figure.Figure at 0x8387358>"
      ]
     },
     "metadata": {},
     "output_type": "display_data"
    }
   ],
   "source": [
    "#Let us Visualise how the input space looks like:\n",
    "plt.scatter(X_train[:,0],X_train[:,1],c=Y_train)"
   ]
  },
  {
   "cell_type": "code",
   "execution_count": null,
   "metadata": {
    "collapsed": true
   },
   "outputs": [],
   "source": []
  }
 ],
 "metadata": {
  "kernelspec": {
   "display_name": "Python 3",
   "language": "python",
   "name": "python3"
  },
  "language_info": {
   "codemirror_mode": {
    "name": "ipython",
    "version": 3
   },
   "file_extension": ".py",
   "mimetype": "text/x-python",
   "name": "python",
   "nbconvert_exporter": "python",
   "pygments_lexer": "ipython3",
   "version": "3.6.1"
  }
 },
 "nbformat": 4,
 "nbformat_minor": 2
}
